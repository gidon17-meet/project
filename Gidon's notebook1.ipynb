{
 "metadata": {
  "name": "",
  "signature": "sha256:bc5b67860db19230dcca7b13cf926506eceb1f8792c326ffc2b39412d23d52ce"
 },
 "nbformat": 3,
 "nbformat_minor": 0,
 "worksheets": [
  {
   "cells": [
    {
     "cell_type": "code",
     "collapsed": false,
     "input": [
      "from model import *"
     ],
     "language": "python",
     "metadata": {},
     "outputs": [],
     "prompt_number": 1
    },
    {
     "cell_type": "code",
     "collapsed": false,
     "input": [],
     "language": "python",
     "metadata": {},
     "outputs": [],
     "prompt_number": 1
    },
    {
     "cell_type": "code",
     "collapsed": false,
     "input": [
      "## Add a New Member\n",
      "member1 = Member(name=\"Lorenzo\", email=\"lorenzo@gmail.com\")\n",
      "password=\"hello\"\n",
      "member1.hash_password(password)\n",
      "session.add(member1)\n",
      "session.commit()\n"
     ],
     "language": "python",
     "metadata": {},
     "outputs": [],
     "prompt_number": 2
    },
    {
     "cell_type": "code",
     "collapsed": false,
     "input": [
      "#Read the first member from the database\n",
      "first_member=session.query(Member).first()"
     ],
     "language": "python",
     "metadata": {},
     "outputs": [],
     "prompt_number": 3
    },
    {
     "cell_type": "code",
     "collapsed": false,
     "input": [
      "first_member.name"
     ],
     "language": "python",
     "metadata": {},
     "outputs": [
      {
       "metadata": {},
       "output_type": "pyout",
       "prompt_number": 4,
       "text": [
        "u'Lorenzo'"
       ]
      }
     ],
     "prompt_number": 4
    },
    {
     "cell_type": "code",
     "collapsed": false,
     "input": [
      "first_member.password_hash"
     ],
     "language": "python",
     "metadata": {},
     "outputs": [
      {
       "metadata": {},
       "output_type": "pyout",
       "prompt_number": 5,
       "text": [
        "u'$6$rounds=656000$juFY9WvqtxFjbQ7Q$3XxKxb5rlrVAEy1lwmAFG/ErgGdA3797RYpQAgnWeUPcFhh6HaHdV8G0.4nh3ecDb.77zHVoanBn2bhdJGMu./'"
       ]
      }
     ],
     "prompt_number": 5
    },
    {
     "cell_type": "code",
     "collapsed": false,
     "input": [
      "#Add an event\n",
      "event1= Event(name=\"Skiing\", location = \"Chourchevel\", date = \"First of February\")\n",
      "session.add(event1)\n",
      "session.commit()"
     ],
     "language": "python",
     "metadata": {},
     "outputs": [],
     "prompt_number": 6
    },
    {
     "cell_type": "code",
     "collapsed": false,
     "input": [
      "first_event=session.query(Event).filter_by(name=\"Skiing\").first()"
     ],
     "language": "python",
     "metadata": {},
     "outputs": [],
     "prompt_number": 7
    },
    {
     "cell_type": "code",
     "collapsed": false,
     "input": [
      "first_event.name\n"
     ],
     "language": "python",
     "metadata": {},
     "outputs": [
      {
       "metadata": {},
       "output_type": "pyout",
       "prompt_number": 8,
       "text": [
        "u'Skiing'"
       ]
      }
     ],
     "prompt_number": 8
    },
    {
     "cell_type": "code",
     "collapsed": false,
     "input": [
      "#MAKE GIDONS ACCOUNT\n",
      "#GIDON MAKES AN EVENT\n",
      "#GIDON INVITES LORENZO TO AN EVENT\n",
      "member2 = Member(name=\"Gidon\", email=\"gidon@gmail.com\")\n",
      "password=\"sup\"\n",
      "member2.hash_password(password)\n",
      "session.add(member2)\n",
      "session.commit()\n"
     ],
     "language": "python",
     "metadata": {},
     "outputs": [],
     "prompt_number": 9
    },
    {
     "cell_type": "code",
     "collapsed": false,
     "input": [
      "event1.owner_id=member2.id\n"
     ],
     "language": "python",
     "metadata": {},
     "outputs": [],
     "prompt_number": 10
    },
    {
     "cell_type": "code",
     "collapsed": false,
     "input": [
      "event1.owner.name"
     ],
     "language": "python",
     "metadata": {},
     "outputs": [
      {
       "metadata": {},
       "output_type": "pyout",
       "prompt_number": 11,
       "text": [
        "u'Gidon'"
       ]
      }
     ],
     "prompt_number": 11
    },
    {
     "cell_type": "code",
     "collapsed": false,
     "input": [
      "def invite(event_id,member_id):\n",
      "    member = session.query(Member).filter_by(id=member_id).one()\n",
      "    event = session.query(Event).filter_by(id=event_id).one()\n",
      "    invitation=InvitesAssociation(member_id = member_id, event_id = event_id, event = event, attending=False)\n",
      "    event.invited.append(invitation)\n",
      "    session.add_all([invitation,event,member])\n",
      "    session.commit()\n",
      "    "
     ],
     "language": "python",
     "metadata": {},
     "outputs": [],
     "prompt_number": 12
    },
    {
     "cell_type": "code",
     "collapsed": false,
     "input": [
      "invite(event1.id,member1.id)"
     ],
     "language": "python",
     "metadata": {},
     "outputs": [],
     "prompt_number": 13
    },
    {
     "cell_type": "code",
     "collapsed": false,
     "input": [
      "my_events = member1.events"
     ],
     "language": "python",
     "metadata": {},
     "outputs": [],
     "prompt_number": 17
    },
    {
     "cell_type": "code",
     "collapsed": false,
     "input": [
      "my_first_event = my_events[0]"
     ],
     "language": "python",
     "metadata": {},
     "outputs": [],
     "prompt_number": 20
    },
    {
     "cell_type": "code",
     "collapsed": false,
     "input": [
      "my_first_event.event.name"
     ],
     "language": "python",
     "metadata": {},
     "outputs": [
      {
       "metadata": {},
       "output_type": "pyout",
       "prompt_number": 22,
       "text": [
        "u'Skiing'"
       ]
      }
     ],
     "prompt_number": 22
    },
    {
     "cell_type": "code",
     "collapsed": false,
     "input": [],
     "language": "python",
     "metadata": {},
     "outputs": []
    }
   ],
   "metadata": {}
  }
 ]
}